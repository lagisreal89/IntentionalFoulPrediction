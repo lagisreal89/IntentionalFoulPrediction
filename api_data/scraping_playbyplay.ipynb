{
 "cells": [
  {
   "cell_type": "code",
   "execution_count": 6,
   "id": "0d724977",
   "metadata": {},
   "outputs": [
    {
     "name": "stdout",
     "output_type": "stream",
     "text": [
      "Database connected successfully\n",
      "Table play_by_play_q4 created successfully or already exists\n"
     ]
    }
   ],
   "source": [
    "import psycopg2\n",
    "import configparser\n",
    "import os\n",
    "\n",
    "def get_db_config():\n",
    "    config = configparser.ConfigParser()\n",
    "    config.read('db.ini')\n",
    "    \n",
    "    return {\n",
    "        'database': config['postgresql']['database'],\n",
    "        'user': config['postgresql']['user'],\n",
    "        'password': config['postgresql']['password'],\n",
    "        'host': config['postgresql']['host']\n",
    "    }\n",
    "\n",
    "try:\n",
    "    db_config = get_db_config()\n",
    "    conn = psycopg2.connect(\n",
    "        database=db_config['database'],\n",
    "        user=db_config['user'],\n",
    "        password=db_config['password'],\n",
    "        host=db_config['host'],\n",
    "        port=5432\n",
    "    )\n",
    "    print(\"Database connected successfully\")\n",
    "    \n",
    "    # Create a cursor object to execute SQL commands\n",
    "    cursor = conn.cursor()\n",
    "    \n",
    "    # Create the play_by_play_q4 table if it doesn't exist\n",
    "    create_table_query = \"\"\"\n",
    "    CREATE TABLE IF NOT EXISTS play_by_play_q4 (\n",
    "        GAME_ID VARCHAR(20),\n",
    "        EVENTNUM INT,\n",
    "        EVENTMSGTYPE INT,\n",
    "        EVENTMSGACTIONTYPE INT,\n",
    "        PERIOD INT,\n",
    "        WCTIMESTRING VARCHAR(20),\n",
    "        PCTIMESTRING VARCHAR(20),\n",
    "        HOMEDESCRIPTION TEXT,\n",
    "        NEUTRALDESCRIPTION TEXT,\n",
    "        VISITORDESCRIPTION TEXT,\n",
    "        SCORE VARCHAR(20),\n",
    "        SCOREMARGIN VARCHAR(10),\n",
    "        PRIMARY KEY (GAME_ID, EVENTNUM)\n",
    "    );\n",
    "    \"\"\"\n",
    "    \n",
    "    cursor.execute(create_table_query)\n",
    "    conn.commit()\n",
    "    print(\"Table play_by_play_q4 created successfully or already exists\")\n",
    "    \n",
    "except Exception as e:\n",
    "    print(f\"Database not connected successfully: {e}\")"
   ]
  },
  {
   "cell_type": "code",
   "execution_count": null,
   "id": "793802ff",
   "metadata": {},
   "outputs": [],
   "source": []
  }
 ],
 "metadata": {
  "kernelspec": {
   "display_name": "venv",
   "language": "python",
   "name": "python3"
  },
  "language_info": {
   "codemirror_mode": {
    "name": "ipython",
    "version": 3
   },
   "file_extension": ".py",
   "mimetype": "text/x-python",
   "name": "python",
   "nbconvert_exporter": "python",
   "pygments_lexer": "ipython3",
   "version": "3.11.5"
  }
 },
 "nbformat": 4,
 "nbformat_minor": 5
}
