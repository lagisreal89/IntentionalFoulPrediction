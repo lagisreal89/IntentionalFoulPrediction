{
 "cells": [
  {
   "cell_type": "code",
   "execution_count": 7,
   "id": "46ebff93",
   "metadata": {},
   "outputs": [
    {
     "name": "stdout",
     "output_type": "stream",
     "text": [
      "Database connected successfully\n"
     ]
    }
   ],
   "source": [
    "import psycopg2\n",
    "import configparser\n",
    "import os\n",
    "import pandas as pd\n",
    "from sqlalchemy import create_engine, text\n",
    "import subprocess\n",
    "import sys\n",
    "import papermill as pm\n",
    "import json\n",
    "import math\n",
    "from psycopg2.extras import execute_batch\n",
    "def get_db_config():\n",
    "    config = configparser.ConfigParser()\n",
    "    config.read('../api_data/db.ini')\n",
    "    \n",
    "    return {\n",
    "        'database': config['postgresql']['database'],\n",
    "        'user': config['postgresql']['user'],\n",
    "        'password': config['postgresql']['password'],\n",
    "        'host': config['postgresql']['host'],\n",
    "        'port': config['postgresql']['port']\n",
    "    }\n",
    "# connect to database \n",
    "db_config = get_db_config()\n",
    "conn = psycopg2.connect(\n",
    "    database=db_config['database'],\n",
    "    user=db_config['user'],\n",
    "    password=db_config['password'],\n",
    "    host=db_config['host'],\n",
    "    port=db_config['port']\n",
    ")\n",
    "cursor = conn.cursor()\n",
    "print(\"Database connected successfully\")"
   ]
  },
  {
   "cell_type": "code",
   "execution_count": 9,
   "id": "0b97189c",
   "metadata": {},
   "outputs": [
    {
     "name": "stdout",
     "output_type": "stream",
     "text": [
      "Updated 453803 rows successfully.\n"
     ]
    }
   ],
   "source": [
    "# Create SQLAlchemy engine for pandas to_sql functionality\n",
    "CONNECTION_STR = (\n",
    "    f\"postgresql+psycopg2://{db_config['user']}:{db_config['password']}\"\n",
    "    f\"@{db_config['host']}:{db_config['port']}/{db_config['database']}\"\n",
    ")\n",
    "ENGINE = create_engine(CONNECTION_STR)\n",
    "\n",
    "def num_of_possessions_down():\n",
    "    db_query = \"\"\"\n",
    "        SELECT game_id, eventnum, scoremargin \n",
    "        FROM play_by_play_q4 \n",
    "        WHERE scoremargin IS NOT NULL \n",
    "        ORDER BY eventnum ASC\n",
    "    \"\"\"\n",
    "    possessions_db = pd.read_sql(db_query, ENGINE)\n",
    "\n",
    "    updates = []\n",
    "    for _, play in possessions_db.iterrows():\n",
    "        score_margin = play['scoremargin']\n",
    "        possessions = 0\n",
    "        if 'TIE' not in str(score_margin):\n",
    "            possessions = math.ceil(abs(int(score_margin)) / 3)\n",
    "        updates.append((possessions, play['game_id'], play['eventnum']))\n",
    "\n",
    "    conn = ENGINE.raw_connection()\n",
    "    cursor = conn.cursor()\n",
    "\n",
    "    update_query = \"\"\"\n",
    "        UPDATE play_by_play_q4\n",
    "        SET possessions_lead_or_trail = %s\n",
    "        WHERE game_id = %s AND eventnum = %s\n",
    "    \"\"\"\n",
    "    execute_batch(cursor, update_query, updates, page_size=1000)\n",
    "    conn.commit()\n",
    "    cursor.close()\n",
    "    conn.close()\n",
    "    print(f\"Updated {len(updates)} rows successfully.\")\n",
    "    \n",
    "num_of_possessions_down()\n",
    "    \n",
    "\n"
   ]
  }
 ],
 "metadata": {
  "kernelspec": {
   "display_name": "venv",
   "language": "python",
   "name": "python3"
  },
  "language_info": {
   "codemirror_mode": {
    "name": "ipython",
    "version": 3
   },
   "file_extension": ".py",
   "mimetype": "text/x-python",
   "name": "python",
   "nbconvert_exporter": "python",
   "pygments_lexer": "ipython3",
   "version": "3.11.5"
  }
 },
 "nbformat": 4,
 "nbformat_minor": 5
}
